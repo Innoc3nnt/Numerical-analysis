{
 "cells": [
  {
   "cell_type": "markdown",
   "metadata": {},
   "source": [
    "### ДЗ 1\n",
    "***\n",
    "#### 1.2\n",
    "$$ I_n (\\alpha) = \\int_0^1 \\frac{x^n}{x+\\alpha} dx $$\n",
    "\n",
    "На *[Wikipedia](https://en.wikipedia.org/wiki/Integration_by_reduction_formulae#Rational_functions)* есть формула для похожего интеграла:\n",
    "$$ I_{n,m} = \\int\\frac{(ax+b)^m}{(px+q)^n} dx = \\begin{cases}-\\frac{1}{(n-1)(bp-aq)}\\left[\\frac{(ax+b)^{m+1}}{(px+q)^{n-1}}+a(n-m-2)I_{m, n-1}\\right] \\quad_{(1)} \\\\\\\\ -\\frac{1}{(n-m-1)p}\\left[\\frac{(ax+b)^{m}}{(px+q)^{n-1}}+m(bp-aq)I_{m-1, n}\\right] \\quad_{(2)} \\\\\\\\ -\\frac{1}{(n-1)p}\\left[\\frac{(ax+b)^{m}}{(px+q)^{n-1}}-amI_{m-1, n-1}\\right] \\quad_{(3)}\\end{cases}$$\n",
    "где $a = 1, b = 0, p = 1, q = \\alpha, m = n, n = 1$\n",
    "\n",
    "т.к. $n = const = 1$, то формулы 1 и 3 не имеют смысла, следовательно, можем использовать вторую:\n",
    "$$ I_n = -\\frac{1}{(n-m-1)p}\\left[\\frac{(ax+b)^{m}}{(px+q)^{n-1}}+m(bp-aq)I_n\\right] = -\\frac{1}{(1-n-1)}\\left[\\frac{x^n}{(x+\\alpha)^{0}}+n(-1*\\alpha)I_{n-1}\\right] = \\frac{x^n}{n}-\\alpha I_{n-1} $$\n",
    "\n",
    "\n",
    "\n",
    "\n",
    "Перейдем к определенному интегралу:\n",
    "$$ I_n (\\alpha) = \\frac{1}{n}-\\alpha I_{n-1}(\\alpha) $$\n",
    "\n",
    "Запишем формулу для обратной рекурсии (через следующий член):\n",
    "$$ I_n (\\alpha) = \\frac{1}{\\alpha}\\left(\\frac{1}{n+1}-I_{n+1}(\\alpha)\\right) $$\n",
    "\n",
    "Найдем нулевой интеграл:\n",
    "$$I_0(\\alpha) = \\int_0^1 \\frac{1}{x+\\alpha} dx = ln(x+\\alpha) \\bigg\\rvert_0^1 = ln \\left(1 + \\frac{1}{\\alpha}\\right)$$"
   ]
  },
  {
   "cell_type": "markdown",
   "metadata": {},
   "source": [
    "Напишем небольшой скрипт на python, который будет считать значение интеграла, приведенного выше. Ограничимся 100 итерациями для рекурсии через следующий член."
   ]
  },
  {
   "cell_type": "code",
   "execution_count": 7,
   "metadata": {},
   "outputs": [
    {
     "name": "stdout",
     "output_type": "stream",
     "text": [
      "n = 25, alpha = 0.1\n",
      "Defined by previous term: 0.03622697090911682\n",
      "Defined by next term: -8.992732439697008e+73\n",
      "n = 25, alpha = 10\n",
      "Defined by previous term: -748346367.4013903\n",
      "Defined by next term: 0.0035083534096819772\n"
     ]
    }
   ],
   "source": [
    "import numpy as np\n",
    "\n",
    "\n",
    "def previous_term(n : int, alpha : float = 0.1) -> float:\n",
    "    if n == 0:\n",
    "        return np.log(1 + 1 / alpha)\n",
    "    else:\n",
    "        return 1 / n - alpha * previous_term(n - 1, alpha)\n",
    "\n",
    "def next_term(n : int, alpha : float = 0.1) -> float:\n",
    "    if n > 100:\n",
    "        return 0.0\n",
    "    else:\n",
    "        return (1 / (n + 1) - next_term(n + 1, alpha)) / alpha\n",
    "\n",
    "\n",
    "print(\"n = 25, alpha = 0.1\")\n",
    "print(f'Defined by previous term: {previous_term(25, 0.1)}') # stable\n",
    "print(f'Defined by next term: {next_term(25, 0.1)}') # unstable\n",
    "\n",
    "\n",
    "print(\"n = 25, alpha = 10\")\n",
    "print(f'Defined by previous term: {previous_term(25, 10)}') # unstable\n",
    "print(f'Defined by next term: {next_term(25, 10)}') # stable\n"
   ]
  },
  {
   "cell_type": "markdown",
   "metadata": {},
   "source": [
    "***\n",
    "#### 1.3\n"
   ]
  },
  {
   "cell_type": "code",
   "execution_count": null,
   "metadata": {},
   "outputs": [],
   "source": [
    "def recur(n : int, a0 : int=1, a1 : int=2) -> int:\n",
    "    if n == 0:\n",
    "        return a0\n",
    "    if n == 1:\n",
    "        return a1\n",
    "    return -recur(n-1, a0, a1) + 6 * recur(n-2, a0, a1)\n",
    "# считать я это конечно же не буду тем более с глубиной рекурсии в 2021"
   ]
  },
  {
   "cell_type": "markdown",
   "metadata": {},
   "source": [
    "Перепишем данное в виде кода рекуррентное соотношение:\n",
    "\n",
    "$$ a_n = -a_{n-1} + 6a_{n-2}, a_0 = 1, a_1 = 2$$\n",
    "\n",
    "Составим его характеристическое уравнение:\n",
    "$$ \\lambda^2 = -\\lambda + 6 $$\n",
    "$$\n",
    "\\\\\\\\\n",
    "\\left[ \n",
    "    \\begin{array}{ccc}\n",
    "        \\lambda & = & -3 \\\\\n",
    "        \\lambda & = & 2 \\\\\n",
    "    \\end{array}\n",
    "\\right.      \n",
    "$$\n",
    "Найдем решение характеристического соотношения:\n",
    "\n",
    "$$ a_n = B(-3) ^ n + C2^n\\\\\\\\$$\n",
    "$$\n",
    "\\begin{cases}\n",
    "        B + C & = & 1 \\\\\n",
    "        2C - 3B & = & 2\n",
    "\\end{cases}\n",
    "\\Leftrightarrow\n",
    "\\begin{cases}\n",
    "        B  & = & 0 \\\\\n",
    "        C & = & 1\n",
    "\\end{cases}\n",
    "\\Rightarrow a_n  =  2^n\n",
    "$$\n"
   ]
  },
  {
   "cell_type": "markdown",
   "metadata": {},
   "source": [
    "Следовательно, \n",
    "```python\n",
    " recur(2021) = 2 ^ 2021\n",
    "```"
   ]
  },
  {
   "cell_type": "markdown",
   "metadata": {},
   "source": [
    "Теперь рассмотрим случай с погрешностью $\\varepsilon$ в значении $a_1 = 2 + \\varepsilon\\quad $:\n",
    "\n",
    "Общее решение останется таким же, поэтому сразу перейдем к системе:\n",
    "$$\n",
    "\\begin{cases}\n",
    "        B + C & = & 1 \\\\\n",
    "        2C - 3B & = & 2 + \\varepsilon\n",
    "\\end{cases}\n",
    "\\Leftrightarrow\n",
    "\\begin{cases}\n",
    "        B  & = & -\\frac{\\varepsilon}{5} \\\\\n",
    "        C & = & 1 + -\\frac{\\varepsilon}{5}\n",
    "\\end{cases}\n",
    "$$"
   ]
  },
  {
   "cell_type": "markdown",
   "metadata": {},
   "source": [
    "Итоговое решение имеет вид:\n",
    "$$a_n = -\\frac{\\varepsilon}{5} (-3)^n + \\left(1 + \\frac{\\varepsilon}{5}\\right) 2^n$$"
   ]
  },
  {
   "cell_type": "markdown",
   "metadata": {},
   "source": [
    "Заметим, что\n",
    "$$\\forall \\varepsilon < 0 : |-\\frac{\\varepsilon}{5} (-3)^n| > |\\left(1 + \\frac{\\varepsilon}{5}\\right) 2^n| $$\n",
    "\n",
    "Следовательно, знак последовательности будет чередоваться в отличие от первого случая\n",
    "***"
   ]
  },
  {
   "cell_type": "markdown",
   "metadata": {},
   "source": [
    "#### 1.4\n",
    "Дана матрица\n",
    "$$A = \n",
    "\\begin{pmatrix}\n",
    "    1 & 10 \\\\\n",
    "    \\delta & 1\n",
    "\\end{pmatrix}$$\n",
    "\n",
    "Найдем ее собственные числа:\n",
    "\n",
    "$$\\begin{vmatrix}\n",
    "    1-\\lambda & 10 \\\\\n",
    "    \\delta & 1-\\lambda\n",
    "\\end{vmatrix}\n",
    "=0\n",
    "$$\n",
    "$$(1-\\lambda)^2 - 10\\delta = 0$$\n",
    "\n",
    "$$\\lambda = 1 \\pm \\sqrt{10\\delta} \\Rightarrow \\varepsilon(\\delta) = max(\\lambda _1, \\lambda _2) = 1 + \\sqrt{10\\delta}$$\n"
   ]
  },
  {
   "cell_type": "markdown",
   "metadata": {},
   "source": [
    "Найдем число обусловленности по формуле:\n",
    "$$\\kappa(\\delta) = \\frac{d\\varepsilon(\\delta)}{d\\delta} = \\frac{\\delta \\varepsilon'(\\delta)}{\\varepsilon(\\delta)}$$\n",
    "$$\\varepsilon' = \\frac{\\sqrt{10\\delta}}{2\\delta}$$\n",
    "\n",
    "Следовательно, число обусловленности равно:\n",
    "$$\\kappa(\\delta) =\\frac{\\delta \\frac{\\sqrt{10\\delta}}{2\\delta}}{1 + \\sqrt{10\\delta}} $$\n",
    "$$\\kappa(10) =\\frac{10* \\frac{\\sqrt{10*10}}{2*10}}{1 + \\sqrt{10*10}} \\approx 0.45$$\n",
    "$$\\kappa(0.1) =\\frac{10* \\frac{\\sqrt{10*0.1}}{2*0.1}}{1 + \\sqrt{10*0.1}} = 0.25$$\n",
    "***"
   ]
  }
 ],
 "metadata": {
  "kernelspec": {
   "display_name": "Python 3.9.7 64-bit",
   "language": "python",
   "name": "python3"
  },
  "language_info": {
   "codemirror_mode": {
    "name": "ipython",
    "version": 3
   },
   "file_extension": ".py",
   "mimetype": "text/x-python",
   "name": "python",
   "nbconvert_exporter": "python",
   "pygments_lexer": "ipython3",
   "version": "3.9.7"
  },
  "orig_nbformat": 4,
  "vscode": {
   "interpreter": {
    "hash": "2e06d593a85ac609c7049f75b7641ec5d855645a3b7346bbfd439dc893f452d0"
   }
  }
 },
 "nbformat": 4,
 "nbformat_minor": 2
}
