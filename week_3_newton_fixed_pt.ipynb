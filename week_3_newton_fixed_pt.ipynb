{
 "cells": [
  {
   "cell_type": "markdown",
   "metadata": {},
   "source": [
    "# Part I. Root-finding. Newton's iteration."
   ]
  },
  {
   "cell_type": "markdown",
   "metadata": {},
   "source": [
    "Write a function which performs Newton's iteration for a given function $f(x)$ with known derivative $f'(x)$. Your function should find the root of $f(x)$ with a predefined absolute accuracy $\\epsilon$. "
   ]
  },
  {
   "cell_type": "code",
   "execution_count": 19,
   "metadata": {},
   "outputs": [],
   "source": [
    "from prettytable import PrettyTable"
   ]
  },
  {
   "cell_type": "code",
   "execution_count": 20,
   "metadata": {
    "collapsed": true
   },
   "outputs": [],
   "source": [
    "def newton_iteration(f, fder, x0, eps=1e-5, maxiter=1000):\n",
    "    \"\"\"Find a root of $f(x) = 0$ via Newton's iteration starting from x0.\n",
    "    \n",
    "    Parameters\n",
    "    ----------\n",
    "    f : callable\n",
    "        The function to find a root of.\n",
    "    fder : callable\n",
    "        The derivative of `f`.\n",
    "    x0 : float\n",
    "        Initial value for the Newton's iteration.\n",
    "    eps : float\n",
    "        The target accuracy. \n",
    "        The iteration stops when the distance between successive iterates is below `eps`.\n",
    "        Default is 1e-5.\n",
    "    maxiter : int\n",
    "        The maximum number of iterations (default is 1000.)\n",
    "        Iterations terminate if the number of iterations exceeds `maxiter`.\n",
    "        This parameter is only needed to avoid infinite loops if iterations wander off.\n",
    "        \n",
    "    Returns\n",
    "    -------\n",
    "    x : float\n",
    "        The estimate for the root.\n",
    "    niter : int\n",
    "        The number of iterations.\n",
    "    \"\"\"\n",
    "    prev = 1\n",
    "    i = 0\n",
    "    while i < maxiter and abs(prev - x0) > eps:\n",
    "        prev = x0\n",
    "        x0 = x0 - f(x0) / fder(x0)\n",
    "        i += 1\n",
    "    return x0"
   ]
  },
  {
   "cell_type": "markdown",
   "metadata": {},
   "source": [
    "### Test I.1 \n",
    "\n",
    "Test your implementation on a simple example, $f(x) = x^2 - 1$ or similar. (20% of the total grade)"
   ]
  },
  {
   "cell_type": "code",
   "execution_count": 21,
   "metadata": {
    "collapsed": true
   },
   "outputs": [
    {
     "name": "stdout",
     "output_type": "stream",
     "text": [
      "-1.000000000000001\n",
      "1.0000000000000118\n",
      "1.0000000000002227\n"
     ]
    }
   ],
   "source": [
    "def f(x):\n",
    "    return x ** 2 - 1\n",
    "\n",
    "def deriv(x):\n",
    "    return 2 * x\n",
    "\n",
    "print(newton_iteration(f, deriv, -2))\n",
    "print(newton_iteration(f, deriv, 500))\n",
    "print(newton_iteration(f, deriv, 9000000))"
   ]
  },
  {
   "cell_type": "markdown",
   "metadata": {},
   "source": [
    "### Test I.2\n",
    "\n",
    "Now consider a function which has a multiple root. Take $f(x) = (x^2 - 1)^2$ as an example. Implement a modified Newton's iteraion,\n",
    "\n",
    "$$\n",
    "x_{n+1} = x_{n} - m \\frac{f(x_n)}{f'(x_n)}\n",
    "$$\n",
    "\n",
    "and vary $m= 1, 2, 3, 4, 5$. Check the number of iterations required for convergence within a fixed $\\epsilon$. Are your observations consistent with the expectation that the convergence is quadratic is $m$ equals the multiplicity of the root, and is linear otherwise? (40% of the total grade)"
   ]
  },
  {
   "cell_type": "code",
   "execution_count": 22,
   "metadata": {
    "collapsed": true
   },
   "outputs": [
    {
     "name": "stdout",
     "output_type": "stream",
     "text": [
      "+--------------------+------------+\n",
      "|       Roots        | Iterations |\n",
      "+--------------------+------------+\n",
      "| 1.0000072727487044 |     22     |\n",
      "|        1.0         |     7      |\n",
      "| 0.9999978414244756 |     18     |\n",
      "| 5.500000000000006  |    1000    |\n",
      "| 1.1413567128712572 |    1000    |\n",
      "+--------------------+------------+\n"
     ]
    }
   ],
   "source": [
    "def modified_newton_iteration(f, fder, x0, m, eps=1e-5, maxiter=1000):\n",
    "    prev = x0 + 1\n",
    "    i = 0\n",
    "    while i < maxiter and abs(prev - x0) > eps:\n",
    "        prev = x0\n",
    "        x0 = x0 - m * f(x0) / fder(x0)\n",
    "        i += 1\n",
    "    return x0, i\n",
    "\n",
    "def f1(x):\n",
    "    return (x ** 2 - 1) ** 2\n",
    "\n",
    "def deriv1(x):\n",
    "    return 4 * x **3 - 4 * x\n",
    "\n",
    "table1 = PrettyTable(['Roots', 'Iterations'])\n",
    "for i in range(1, 6):\n",
    "    table1.add_row(modified_newton_iteration(f1, deriv1, 5.5, i))\n",
    "print(table1)"
   ]
  },
  {
   "cell_type": "markdown",
   "metadata": {},
   "source": [
    "# Part II. Fixed-point iteration"
   ]
  },
  {
   "cell_type": "markdown",
   "metadata": {},
   "source": [
    "Consider the following equation:\n",
    "\n",
    "$$\n",
    "\\sqrt{x} = \\cos{x}\n",
    "$$\n",
    "\n",
    "Plot the left-hand side and right-hand side of this equation, and localize the root graphically. Estimate the location of the root by visual inspection of the plot.\n",
    "\n",
    "Write a function which finds the solution using fixed-point iteration up to a predefined accuracy $\\epsilon$. Compare the result to an estimate from a visual inspection.\n",
    "\n",
    "Next, rewrite the fixed-point problem in the form\n",
    "\n",
    "$$\n",
    "x = x - \\alpha f(x)\n",
    "$$\n",
    "\n",
    "where $\\alpha$ is the free parameter. Check the dependence of the number of iterations required for a given $\\epsilon$ on $\\alpha$. Compare your results to an expectation that the optimal value of $\\alpha$ is given by \n",
    "\n",
    "$$\n",
    "\\alpha = \\frac{2}{m + M}\n",
    "$$\n",
    "\n",
    "where $0 < m < |f'(x)| < M$ over the localization interval. (40% of the total grade)"
   ]
  },
  {
   "cell_type": "code",
   "execution_count": 23,
   "metadata": {
    "collapsed": true
   },
   "outputs": [],
   "source": [
    "import matplotlib.pyplot as plt\n",
    "import numpy as np"
   ]
  },
  {
   "cell_type": "code",
   "execution_count": 24,
   "metadata": {},
   "outputs": [
    {
     "data": {
      "text/plain": [
       "[<matplotlib.lines.Line2D at 0x2b3b43e4490>,\n",
       " <matplotlib.lines.Line2D at 0x2b3b43e44f0>]"
      ]
     },
     "execution_count": 24,
     "metadata": {},
     "output_type": "execute_result"
    },
    {
     "data": {
      "image/png": "[encoded data removed]",
      "text/plain": [
       "<Figure size 640x480 with 1 Axes>"
      ]
     },
     "metadata": {},
     "output_type": "display_data"
    }
   ],
   "source": [
    "x1 = np.linspace(0, 10, 1000)\n",
    "x2 = np.linspace(0, 10, 1000)\n",
    "y1 = [np.sqrt(i) for i in x1]\n",
    "y2 = [np.cos(i) for i in x2]\n",
    "plt.plot(x1, y1, x2, y2)\n"
   ]
  },
  {
   "cell_type": "code",
   "execution_count": 45,
   "metadata": {},
   "outputs": [
    {
     "name": "stdout",
     "output_type": "stream",
     "text": [
      "0.4912276880278058\n"
     ]
    }
   ],
   "source": [
    "def eq(x):\n",
    "    return np.sqrt(x) - np.cos(x)\n",
    "\n",
    "def fixed_point(f, x0, eps=10e-5, maxiter=1000, alpha=1):\n",
    "    i = 0\n",
    "    prev = x0 + 1\n",
    "    while abs(prev - x0) > eps and i < maxiter:\n",
    "        prev = x0\n",
    "        x0 = x0 - alpha * f(x0)\n",
    "        i += 1\n",
    "    return x0, i\n",
    "# fixed_point(eq, 1, eps=10e-10)\n",
    "print(eq(1.0234453278375))\n",
    "# for alpha in np.linspace(0.5, 2, 11):\n",
    "#     print(fixed_point(eq, 5, eps=10e-5, alpha=alpha))"
   ]
  },
  {
   "cell_type": "code",
   "execution_count": null,
   "metadata": {},
   "outputs": [],
   "source": []
  },
  {
   "cell_type": "markdown",
   "metadata": {},
   "source": [
    "# Part III. Newton's fractal.\n",
    "\n",
    "(Not graded). \n",
    "\n",
    "Consider the equation\n",
    "\n",
    "$$\n",
    "x^3 = 1\n",
    "$$\n",
    "\n",
    "It has three solutions in the complex plane, $x_k = \\exp(i\\, 2\\pi k/ 3)$, $k = 0, 1, 2$.\n",
    "\n",
    "The Newton's iterations converge to one of these solutions, depending on the starting point in the complex plane (to converge to a complex-valued solution, the iteration needs a complex-valued starting point).\n",
    "\n",
    "Plot the \\emph{basins of attraction} of these roots on the complex plane of $x$ (i.e., on the plane $\\mathrm{Re}x$ -- $\\mathrm{Im}x$). To this end, make a series of calculations, varying the initial conditions on a grid of points. \n",
    "Color the grid in three colors, according to the root, to which iterations converged."
   ]
  },
  {
   "cell_type": "code",
   "execution_count": null,
   "metadata": {
    "collapsed": true
   },
   "outputs": [],
   "source": []
  }
 ],
 "metadata": {
  "kernelspec": {
   "display_name": "Python 3.9.7 64-bit",
   "language": "python",
   "name": "python3"
  },
  "language_info": {
   "codemirror_mode": {
    "name": "ipython",
    "version": 3
   },
   "file_extension": ".py",
   "mimetype": "text/x-python",
   "name": "python",
   "nbconvert_exporter": "python",
   "pygments_lexer": "ipython3",
   "version": "3.9.7"
  },
  "vscode": {
   "interpreter": {
    "hash": "2e06d593a85ac609c7049f75b7641ec5d855645a3b7346bbfd439dc893f452d0"
   }
  }
 },
 "nbformat": 4,
 "nbformat_minor": 2
}
